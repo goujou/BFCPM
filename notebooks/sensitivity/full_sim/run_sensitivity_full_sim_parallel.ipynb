{
 "cells": [
  {
   "cell_type": "markdown",
   "id": "c348c988",
   "metadata": {},
   "source": [
    "## Script to run several python files (from notebooks) one after another and store their output\n",
    "\n",
    "- check that the ipython file (``run_pre_spinup.ipynb``, ``run_simulation.ipynb``, ``run_benchmarking.ipynb``) is synchronized with its python file (via ``jupytext --set-formats ipynb,py --sync yourNotebook.ipynb``)\n",
    "- add the python file with its parameters to ``notebook_datas``"
   ]
  },
  {
   "cell_type": "code",
   "execution_count": null,
   "id": "e6b1de16",
   "metadata": {},
   "outputs": [],
   "source": [
    "import subprocess\n",
    "from pathlib import Path\n",
    "\n",
    "from BFCPM import LOGS_PATH\n",
    "from tqdm import tqdm"
   ]
  },
  {
   "cell_type": "code",
   "execution_count": null,
   "id": "f6e9bb6f",
   "metadata": {
    "lines_to_next_cell": 2
   },
   "outputs": [],
   "source": [
    "# pre_spinup_date = \"2023-06-07\" # corrected wood density\n",
    "pre_spinup_date = \"2023-07-25\"  # publication\n",
    "\n",
    "sim_cohort_name = \"sensitivity_full_sim\"\n",
    "\n",
    "# continuous-cover spinup\n",
    "cc_spinup_species = \"pine\"\n",
    "cc_spinup_length = 160\n",
    "cc_spinup_N = 1_500\n",
    "\n",
    "# simulation data\n",
    "\n",
    "# sim_date = \"2023-05-15\" # current simulation for paper\n",
    "# sim_date = \"2023-06-05\" # other emergency strategies\n",
    "# sim_date = \"2023-06-08\" # corrected wood density\n",
    "# sim_date = \"2023-06-19\" # at emergency automatically thin stand to SBA = 18\n",
    "# sim_date = \"2023-07-11\" # mixed-aged_pine\n",
    "#sim_date = \"2023-07-26\"  # publication\n",
    "sim_date = \"2023-11-24\"\n",
    "\n",
    "sim_names = [\n",
    "    \"mixed-aged_pine_long\",\n",
    "    \"even-aged_pine_long\",\n",
    "    \"even-aged_spruce_long\",\n",
    "    \"even-aged_mixed_long\",\n",
    "]\n",
    "\n",
    "# tree density of even-aged stands before pre-commercial thinning\n",
    "sim_N = 2_000\n",
    "\n",
    "# emergency actions to be taken\n",
    "emergency_action_str, emergency_direction, emergency_stand_action_str = (\n",
    "    \"Die\",\n",
    "    \"below\",\n",
    "    \"ThinStandToSBA18\",\n",
    ")\n",
    "# emergency_action_str, emergency_direction = \"Cut\", \"above\"\n",
    "# emergency_action_str, emergency_direction = \"CutWait3AndReplant\", \"above\"\n",
    "# emergency_action_str, emergency_direction = \"Thin\", \"above\"\n"
   ]
  },
  {
   "cell_type": "code",
   "execution_count": null,
   "id": "bfd45b59-0875-4fb4-bb2e-b73af12b1744",
   "metadata": {},
   "outputs": [],
   "source": [
    "sensitivity_param_names = [\"R_mL\", \"S_R\", \"rho_RL\", \"Vcmax\"]\n",
    "#sensitivity_qs = [0.95, 1.05]\n",
    "sensitivity_qs = [0.9, 1.1]\n",
    "\n",
    "sensitivity_strs = list()\n",
    "for param_name in sensitivity_param_names:\n",
    "    for q in sensitivity_qs:\n",
    "        s = f\"{param_name},{q}\"\n",
    "        sensitivity_strs.append(s)\n",
    "\n",
    "print(sensitivity_strs)"
   ]
  },
  {
   "cell_type": "code",
   "execution_count": null,
   "id": "84936bf8",
   "metadata": {},
   "outputs": [],
   "source": [
    "logs_path = LOGS_PATH.joinpath(f\"{sim_cohort_name}\").joinpath(f\"{sim_date}\")\n",
    "logs_path.mkdir(exist_ok=True, parents=True)\n",
    "logs_path"
   ]
  },
  {
   "cell_type": "code",
   "execution_count": null,
   "id": "bfa8829e",
   "metadata": {},
   "outputs": [],
   "source": [
    "# four scenarios simulation data including continuous-cover spinup\n",
    "four_scenarios_data = [\n",
    "    {\n",
    "        \"filename\": \"run_sensitivity_full_sim.py\",\n",
    "        \"params\": [\n",
    "            pre_spinup_date,\n",
    "            sim_cohort_name,\n",
    "            cc_spinup_species,\n",
    "            str(cc_spinup_length),\n",
    "            str(cc_spinup_N),\n",
    "            sim_date,\n",
    "            sim_name,\n",
    "            str(sim_N),\n",
    "            emergency_action_str,\n",
    "            emergency_direction,\n",
    "            emergency_stand_action_str,\n",
    "            sensitivity_str\n",
    "        ],\n",
    "    }\n",
    "    for sim_name in sim_names\n",
    "    for sensitivity_str in sensitivity_strs\n",
    "]\n",
    "len(four_scenarios_data)"
   ]
  },
  {
   "cell_type": "markdown",
   "id": "8f12bc47-290a-41f2-8a79-6b648534bb58",
   "metadata": {},
   "source": [
    "## Run scenarios in parallel"
   ]
  },
  {
   "cell_type": "code",
   "execution_count": null,
   "id": "58413dc3-adda-4e68-93ed-e9502922ec75",
   "metadata": {},
   "outputs": [],
   "source": [
    "import os\n",
    "import dask\n",
    "from dask.distributed import Client, LocalCluster"
   ]
  },
  {
   "cell_type": "code",
   "execution_count": null,
   "id": "8a9253b8-0858-4bb5-b325-68074757de1e",
   "metadata": {},
   "outputs": [],
   "source": [
    "dask.config.set({\"distributed.nanny.environ.MALLOC_TRIM_THRESHOLD_\": 0})"
   ]
  },
  {
   "cell_type": "code",
   "execution_count": null,
   "id": "004242b0",
   "metadata": {},
   "outputs": [],
   "source": [
    "os.environ[\"MALLOC_TRIM_THRESHOLD_\"] = str(dask.config.get(\"distributed.nanny.environ.MALLOC_TRIM_THRESHOLD_\"))"
   ]
  },
  {
   "cell_type": "code",
   "execution_count": null,
   "id": "96cd8567-5ac8-4522-8dbf-9fc6a7d32e3d",
   "metadata": {},
   "outputs": [],
   "source": [
    "cluster = LocalCluster(n_workers = 4, threads_per_worker=1)\n",
    "c = Client(cluster)\n",
    "c"
   ]
  },
  {
   "cell_type": "code",
   "execution_count": null,
   "id": "2986416d-50bf-4872-967f-b099c990b72c",
   "metadata": {},
   "outputs": [],
   "source": [
    "def run_nb(filename, params, logs_path, nr):\n",
    "    print(\"Starting:\", filename)\n",
    "    print(params)\n",
    "    logfile_path = logs_path.joinpath(f\"run_sensitivity_full_sim_{nr}.log\")\n",
    "    print(\"Logfile path:\", logfile_path)\n",
    "    with open(logfile_path, \"w\") as f:\n",
    "        process = subprocess.run(\n",
    "            [\"python\", filename] + params, stdout=f, universal_newlines=True\n",
    "        )\n",
    "    #        process.wait()\n",
    "\n",
    "    print(\"Finished:\", filename)\n",
    "    print(logfile_path.absolute())\n",
    "    print(process)\n",
    "\n",
    "    return \"Done\""
   ]
  },
  {
   "cell_type": "code",
   "execution_count": null,
   "id": "19465e2d-0a28-4ce8-9acf-17c32ccabfcc",
   "metadata": {},
   "outputs": [],
   "source": [
    "results = list()\n",
    "for nr, nb_data in enumerate(four_scenarios_data):\n",
    "    filename = nb_data[\"filename\"]\n",
    "    params = nb_data[\"params\"]\n",
    "\n",
    "    result = dask.delayed(run_nb)(filename, params, logs_path, nr)\n",
    "    results.append(result)"
   ]
  },
  {
   "cell_type": "code",
   "execution_count": null,
   "id": "3edd3068-c827-40a1-a0d3-8ba5418db813",
   "metadata": {
    "lines_to_next_cell": 0
   },
   "outputs": [],
   "source": [
    "%%time\n",
    "\n",
    "dask.compute(results)"
   ]
  },
  {
   "cell_type": "code",
   "execution_count": null,
   "id": "abb38497",
   "metadata": {
    "lines_to_next_cell": 2
   },
   "outputs": [],
   "source": []
  }
 ],
 "metadata": {
  "jupytext": {
   "formats": "ipynb,py:light"
  },
  "kernelspec": {
   "display_name": "Python 3 (ipykernel)",
   "language": "python",
   "name": "python3"
  },
  "language_info": {
   "codemirror_mode": {
    "name": "ipython",
    "version": 3
   },
   "file_extension": ".py",
   "mimetype": "text/x-python",
   "name": "python",
   "nbconvert_exporter": "python",
   "pygments_lexer": "ipython3",
   "version": "3.10.0"
  }
 },
 "nbformat": 4,
 "nbformat_minor": 5
}
