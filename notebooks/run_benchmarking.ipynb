{
 "cells": [
  {
   "cell_type": "markdown",
   "id": "92bef397",
   "metadata": {
    "tags": []
   },
   "source": [
    "# Run single pine simulation for 80 years for allometry benchmarking\n",
    "\n",
    "...160 years spinup"
   ]
  },
  {
   "cell_type": "code",
   "execution_count": null,
   "id": "93df357c",
   "metadata": {},
   "outputs": [],
   "source": [
    "%load_ext autoreload"
   ]
  },
  {
   "cell_type": "code",
   "execution_count": null,
   "id": "72a85b2d",
   "metadata": {},
   "outputs": [],
   "source": [
    "import argparse"
   ]
  },
  {
   "cell_type": "code",
   "execution_count": null,
   "id": "b56c2841",
   "metadata": {},
   "outputs": [],
   "source": [
    "import numpy as np\n",
    "import xarray as xr\n",
    "from BFCPM import DATA_PATH, PRE_SPINUPS_PATH, Q_, utils\n",
    "from BFCPM.management.library import species_setting_from_sim_profile\n",
    "from BFCPM.simulation import utils as sim_utils\n",
    "from BFCPM.simulation.library import prepare_forcing\n",
    "from BFCPM.simulation.recorded_simulation import RecordedSimulation\n",
    "from BFCPM.simulation_parameters import stand_params_library\n",
    "from BFCPM.soil.simple_soil_model.C_model import SimpleSoilCModel\n",
    "from BFCPM.stand import Stand\n",
    "from BFCPM.trees.single_tree_params import species_params\n",
    "from BFCPM.wood_products.simple_wood_product_model.C_model import \\\n",
    "    SimpleWoodProductModel\n",
    "from bgc_md2.notebook_helpers import write_to_logfile\n",
    "from CompartmentalSystems.discrete_model_run import DiscreteModelRun as DMR\n",
    "from LAPM.discrete_linear_autonomous_pool_model import \\\n",
    "    DiscreteLinearAutonomousPoolModel as DLAPM\n",
    "\n",
    "%autoreload 2"
   ]
  },
  {
   "cell_type": "code",
   "execution_count": null,
   "id": "60d26baa",
   "metadata": {},
   "outputs": [],
   "source": [
    "all_sims_path = DATA_PATH.joinpath(\"simulations\")\n",
    "all_sims_path.mkdir(exist_ok=True)"
   ]
  },
  {
   "cell_type": "code",
   "execution_count": null,
   "id": "fc4b98ee-c482-4952-8e76-96b4bdafe915",
   "metadata": {},
   "outputs": [],
   "source": [
    "#%tb\n",
    "\n",
    "try:\n",
    "    parser = argparse.ArgumentParser()\n",
    "    parser.add_argument(\"pre_spinup_date\", type=str)\n",
    "\n",
    "    parser.add_argument(\"sim_date\", type=str)\n",
    "    parser.add_argument(\"species\", type=str)\n",
    "\n",
    "    args = parser.parse_args()\n",
    "\n",
    "    pre_spinup_date = args.pre_spinup_date\n",
    "\n",
    "    sim_date = args.sim_date\n",
    "    species = args.species\n",
    "    print(\"Simulation settings from command line\")\n",
    "except SystemExit:\n",
    "    print(\"Standard simulation settings\")\n",
    "\n",
    "    pre_spinup_date = \"2023-07-25\"\n",
    "\n",
    "    sim_date = \"2023-07-26\"\n",
    "    species = \"pine\"\n",
    "#    species = \"spruce\"\n",
    "\n",
    "sim_dict = {\n",
    "    \"pre_spinup_date\": pre_spinup_date,\n",
    "    \"sim_date\": sim_date,\n",
    "    \"species\": species,\n",
    "    \"sim_length\": 4 * 20,\n",
    "    \"N\": 2_000,\n",
    "}\n",
    "\n",
    "print(sim_dict)"
   ]
  },
  {
   "cell_type": "markdown",
   "id": "2b34525f",
   "metadata": {},
   "source": [
    "### Custom species parameters?"
   ]
  },
  {
   "cell_type": "code",
   "execution_count": null,
   "id": "63e6f4c5-1ebf-440c-bfa5-415a35483632",
   "metadata": {},
   "outputs": [],
   "source": [
    "# tree species parameter changes can be made here\n",
    "custom_species_params = species_params.copy()\n",
    "\n",
    "# alpha = 1.00\n",
    "# custom_species_params[\"pine\"][\"alpha\"][\"value\"] = alpha\n",
    "# custom_species_params[\"spruce\"][\"alpha\"][\"value\"] = alpha"
   ]
  },
  {
   "cell_type": "markdown",
   "id": "880568ba",
   "metadata": {},
   "source": [
    "## Set up forcing and simulation length"
   ]
  },
  {
   "cell_type": "code",
   "execution_count": null,
   "id": "8ebb5c38",
   "metadata": {},
   "outputs": [],
   "source": [
    "# simulation data\n",
    "# start 0 years earlier so as to have the true start again at 2000\n",
    "nr_copies = sim_dict[\"sim_length\"] // 20\n",
    "forcing = prepare_forcing(nr_copies=nr_copies, year_offset=-0)\n",
    "\n",
    "sim_cohort_name = \"\"\n",
    "sim_cohort_path = all_sims_path.joinpath(sim_cohort_name)\n",
    "sim_cohort_path = sim_cohort_path.joinpath(f\"{sim_dict['sim_date']}\")\n",
    "sim_cohort_path = sim_cohort_path.joinpath(\"benchmarking\")\n",
    "\n",
    "sim_cohort_path.mkdir(exist_ok=True)\n",
    "print(sim_cohort_path)"
   ]
  },
  {
   "cell_type": "markdown",
   "id": "8f641392",
   "metadata": {},
   "source": [
    "## Load spinup data: soil and wood product stocks and age structure"
   ]
  },
  {
   "cell_type": "code",
   "execution_count": null,
   "id": "bf340d08",
   "metadata": {
    "lines_to_next_cell": 2
   },
   "outputs": [],
   "source": [
    "spinups_path = PRE_SPINUPS_PATH.joinpath(sim_dict[\"pre_spinup_date\"])\n",
    "\n",
    "light_model = \"Zhao\"  # Zhao or Spitters\n",
    "# light_model = \"Spitters\" # Zhao or Spitters\n",
    "\n",
    "spinup_species = \"pine\"\n",
    "# spinup_name = \"basic\"\n",
    "spinup_name = f\"basic_{light_model}_{spinup_species}_2nd_round\"\n",
    "# spinup_name = f\"basic_{light_model}_{spinup_species}_pure_SBA_2nd_round\"\n",
    "dmr_path = spinups_path.joinpath(spinup_name + \".dmr_eq\")\n",
    "\n",
    "# load fake equilibrium dmr\n",
    "dmr_eq = DLAPM.load_from_file(dmr_path)\n",
    "\n",
    "# initialize soil and wood product models with spinup stocks\n",
    "soil_model = SimpleSoilCModel(\n",
    "    initial_stocks=Q_(dmr_eq.xss[dmr_eq.soil_pool_nrs], \"gC/m^2\")\n",
    ")\n",
    "wood_product_model = SimpleWoodProductModel(\n",
    "    initial_stocks=Q_(dmr_eq.xss[dmr_eq.wood_product_pool_nrs], \"gC/m^2\")\n",
    ")\n",
    "stand_params = stand_params_library[\"default\"]\n",
    "stand_params[\"soil_model\"] = soil_model\n",
    "stand_params[\"wood_product_model\"] = wood_product_model\n",
    "\n",
    "dmr_path"
   ]
  },
  {
   "cell_type": "code",
   "execution_count": null,
   "id": "f5bc5d86",
   "metadata": {},
   "outputs": [],
   "source": [
    "species = sim_dict[\"species\"]\n",
    "\n",
    "management_strategy = [\n",
    "    (\"StandAge3\", \"Plant\"),\n",
    "    (\"PCT\", \"T0.75\"),  # pre-commercial thinning\n",
    "    (\"DBH35-80\", \"CutWait3AndReplant\"),\n",
    "    #    # needs to be lower priority than any cutting, otherwise cutting might be delayed\n",
    "    #    (\"SBA25\", \"ThinStandToSBA18\"), # SBA dependent thinning\n",
    "]\n",
    "\n",
    "sim_profile, sim_name = [\n",
    "    (species, 1.0, sim_dict[\"N\"] / 10_000, management_strategy, \"waiting\"),\n",
    "], f\"single_{species}\"\n",
    "\n",
    "emergency_action_str, emergency_direction, emergency_stand_action_str = (\n",
    "    \"Die\",\n",
    "    \"below\",\n",
    "    \"\",\n",
    ")\n",
    "# emergency_action_str, emergency_direction = \"Thin\", \"below\"\n",
    "# emergency_action_str, emergency_direction = \"CutWait3AndReplant\", \"above\"\n",
    "emergency_q = 0.75\n",
    "\n",
    "print(sim_name)\n",
    "\n",
    "species_setting = species_setting_from_sim_profile(sim_profile)\n",
    "\n",
    "logfile_path = sim_cohort_path.joinpath(sim_name + \".log\")\n",
    "print(f\"log file: {logfile_path}\")"
   ]
  },
  {
   "cell_type": "code",
   "execution_count": null,
   "id": "f63481f9",
   "metadata": {
    "tags": []
   },
   "outputs": [],
   "source": [
    "%%time\n",
    "\n",
    "# import warnings\n",
    "# with warnings.catch_warnings():\n",
    "#    warnings.simplefilter(\"error\")\n",
    "\n",
    "stand = Stand.create_empty(stand_params)\n",
    "stand.add_trees_from_setting(\n",
    "    species_setting, custom_species_params=custom_species_params\n",
    ")\n",
    "\n",
    "print(stand)"
   ]
  },
  {
   "cell_type": "code",
   "execution_count": null,
   "id": "de89c14c-0bdc-4d54-965c-318fc6d63347",
   "metadata": {},
   "outputs": [],
   "source": [
    "final_felling = True\n",
    "\n",
    "if final_felling:\n",
    "    total_length = 80\n",
    "    stand.add_final_felling(Q_(total_length, \"yr\"))\n",
    "\n",
    "print(stand)"
   ]
  },
  {
   "cell_type": "markdown",
   "id": "d132e997",
   "metadata": {},
   "source": [
    "## Run simulation"
   ]
  },
  {
   "cell_type": "code",
   "execution_count": null,
   "id": "3cd460d8-1697-48e2-8142-a5ddb6cc738d",
   "metadata": {},
   "outputs": [],
   "source": [
    "recorded_simulation = RecordedSimulation.from_simulation_run(\n",
    "    sim_name,\n",
    "    logfile_path,\n",
    "    sim_profile,\n",
    "    light_model,\n",
    "    forcing,\n",
    "    custom_species_params,\n",
    "    stand,\n",
    "    #    final_felling,\n",
    "    emergency_action_str,\n",
    "    emergency_direction,\n",
    "    emergency_q,  # fraction to keep\n",
    "    emergency_stand_action_str,  # in case of emergency, also do this\n",
    ")"
   ]
  },
  {
   "cell_type": "markdown",
   "id": "24ee04d8-2b8b-4b19-9f97-11f94ebe73d8",
   "metadata": {},
   "source": [
    "### Save recorded simulation"
   ]
  },
  {
   "cell_type": "code",
   "execution_count": null,
   "id": "327975aa-0375-43f5-9d96-7d5a68dfb620",
   "metadata": {},
   "outputs": [],
   "source": [
    "filepath = sim_cohort_path.joinpath(sim_name + \".dmp\")\n",
    "filepath"
   ]
  },
  {
   "cell_type": "code",
   "execution_count": null,
   "id": "e8466a23-9605-4cd4-a86a-6484c763154c",
   "metadata": {},
   "outputs": [],
   "source": [
    "recorded_simulation.save_to_file(filepath)\n",
    "print(filepath)"
   ]
  },
  {
   "cell_type": "code",
   "execution_count": null,
   "id": "7b7f61e7-ae66-47d3-9932-a8369bf453cd",
   "metadata": {},
   "outputs": [],
   "source": [
    "# recorded_simulation = RecordedSimulation.from_file(filepath)"
   ]
  },
  {
   "cell_type": "code",
   "execution_count": null,
   "id": "1e61d596",
   "metadata": {},
   "outputs": [],
   "source": [
    "ds = recorded_simulation.ds\n",
    "ds"
   ]
  },
  {
   "cell_type": "code",
   "execution_count": null,
   "id": "d0e38c70",
   "metadata": {},
   "outputs": [],
   "source": [
    "filepath = sim_cohort_path.joinpath(sim_name + \".nc\")\n",
    "ds.to_netcdf(str(filepath))\n",
    "print(filepath)"
   ]
  },
  {
   "cell_type": "markdown",
   "id": "0e32d909-4d9d-477f-ace0-920ae41b8800",
   "metadata": {},
   "source": [
    "## Compute transit time variables, carbon sequestration, add to dataset"
   ]
  },
  {
   "cell_type": "code",
   "execution_count": null,
   "id": "3d30d05e-9bf8-4c4d-9b4e-5c49eaabd79f",
   "metadata": {},
   "outputs": [],
   "source": [
    "cache_size = 30_000\n",
    "verbose = True"
   ]
  },
  {
   "cell_type": "code",
   "execution_count": null,
   "id": "6925d720",
   "metadata": {},
   "outputs": [],
   "source": [
    "%%time\n",
    "\n",
    "# create discrete model run from stocks and fluxes\n",
    "dmr = utils.create_dmr_from_stocks_and_fluxes(\n",
    "    ds\n",
    ")  # , GPP_total_prepend=ds_long.GPP_total[-(nr_years+1)])\n",
    "\n",
    "ds = sim_utils.compute_BTT_vars_and_add_to_ds(\n",
    "    ds, dmr, dmr_eq, up_to_order=2, cache_size=cache_size, verbose=verbose\n",
    ")\n",
    "ds = sim_utils.compute_C_balance_and_CS_and_add_to_ds(\n",
    "    ds, dmr, cache_size=cache_size, verbose=verbose\n",
    ")\n",
    "ds"
   ]
  },
  {
   "cell_type": "markdown",
   "id": "a6ab1440",
   "metadata": {},
   "source": [
    "## Save simulation dataset, discrete model run, and spinup (fake equilibrium) model run"
   ]
  },
  {
   "cell_type": "code",
   "execution_count": null,
   "id": "c523d2ab-a09d-49b9-a945-c7723eb41224",
   "metadata": {
    "lines_to_next_cell": 0
   },
   "outputs": [],
   "source": [
    "filepath = sim_cohort_path.joinpath(sim_name + \".nc\")\n",
    "ds.to_netcdf(str(filepath))\n",
    "print(\"Simulation dataset\")\n",
    "print(filepath)\n",
    "print()\n",
    "\n",
    "filepath = sim_cohort_path.joinpath(sim_name + \".dmr\")\n",
    "dmr.save_to_file(filepath)\n",
    "print(\"Simulation discrete model run\")\n",
    "print(filepath)\n",
    "print()\n",
    "\n",
    "filepath = sim_cohort_path.joinpath(sim_name + \".dmr_eq\")\n",
    "dmr_eq.save_to_file(filepath)\n",
    "print(\"Spinup discrete model run in equilibrium\")\n",
    "print(filepath)\n",
    "print()"
   ]
  },
  {
   "cell_type": "markdown",
   "id": "b7364258-c369-4a2a-ac4c-0bfc18f94631",
   "metadata": {},
   "source": [
    "### Make stand cross-section and simulation videos"
   ]
  },
  {
   "cell_type": "code",
   "execution_count": null,
   "id": "ce1767cc-f271-48cc-a027-071060dd025b",
   "metadata": {
    "lines_to_next_cell": 0
   },
   "outputs": [],
   "source": [
    "# the base for the x-axis of the video, quite arbitray\n",
    "base_N = sim_dict[\"N\"] / 10_000\n",
    "print(\"Creating stand cross section video\")\n",
    "filepath = sim_cohort_path.joinpath(sim_name + \"_cs.mp4\")\n",
    "utils.create_stand_cross_section_video(ds, filepath, base_N)\n",
    "print(filepath)"
   ]
  },
  {
   "cell_type": "code",
   "execution_count": null,
   "id": "d4cda818",
   "metadata": {},
   "outputs": [],
   "source": [
    "%%time\n",
    "\n",
    "print(\"\\nCreating simulation video\")\n",
    "filepath = sim_cohort_path.joinpath(sim_name + \"_sim.mp4\")\n",
    "\n",
    "utils.create_simulation_video(\n",
    "    ds,\n",
    "    dmr_eq,\n",
    "    np.array([dmr.soil_pool_nrs[-1]]),\n",
    "    filepath,\n",
    "    resolution=5,\n",
    "    time_index_start=0,\n",
    "    clearcut_index=None,\n",
    "    time_index_stop=len(ds.time) - 2,\n",
    "    year_shift=0,\n",
    "    cache_size=1_000,\n",
    ")\n",
    "print(filepath)"
   ]
  }
 ],
 "metadata": {
  "jupytext": {
   "formats": "ipynb,py:light"
  },
  "kernelspec": {
   "display_name": "Python 3 (ipykernel)",
   "language": "python",
   "name": "python3"
  },
  "language_info": {
   "codemirror_mode": {
    "name": "ipython",
    "version": 3
   },
   "file_extension": ".py",
   "mimetype": "text/x-python",
   "name": "python",
   "nbconvert_exporter": "python",
   "pygments_lexer": "ipython3",
   "version": "3.10.0"
  }
 },
 "nbformat": 4,
 "nbformat_minor": 5
}
