{
 "cells": [
  {
   "cell_type": "markdown",
   "id": "62c6ca45",
   "metadata": {},
   "source": [
    "# Run clear-cut simulation after age-distributed spinup"
   ]
  },
  {
   "cell_type": "markdown",
   "id": "6aab3614-0277-4fa8-b5fc-46fbefc12bd7",
   "metadata": {},
   "source": [
    "...spinup 160 or 240 years, simulation 80 years"
   ]
  },
  {
   "cell_type": "code",
   "execution_count": null,
   "id": "fafea167",
   "metadata": {},
   "outputs": [],
   "source": [
    "%load_ext autoreload"
   ]
  },
  {
   "cell_type": "code",
   "execution_count": null,
   "id": "a68c80c0-0c3c-4860-a9b7-db9868ba6944",
   "metadata": {},
   "outputs": [],
   "source": [
    "import argparse"
   ]
  },
  {
   "cell_type": "code",
   "execution_count": null,
   "id": "6233491e",
   "metadata": {},
   "outputs": [],
   "source": [
    "import numpy as np\n",
    "import xarray as xr\n",
    "from BFCPM import DATA_PATH, PRE_SPINUPS_PATH, Q_, utils\n",
    "from BFCPM.management.library import species_setting_from_sim_profile\n",
    "from BFCPM.simulation import utils as sim_utils\n",
    "from BFCPM.simulation.library import (create_mixed_aged_sim_profile,\n",
    "                                      load_clear_cut_sim_profiles,\n",
    "                                      prepare_forcing)\n",
    "from BFCPM.simulation.recorded_simulation import RecordedSimulation\n",
    "from BFCPM.simulation_parameters import stand_params_library\n",
    "from BFCPM.soil.simple_soil_model.C_model import SimpleSoilCModel\n",
    "from BFCPM.stand import Stand\n",
    "from BFCPM.trees.single_tree_params import species_params\n",
    "from BFCPM.wood_products.simple_wood_product_model.C_model import \\\n",
    "    SimpleWoodProductModel\n",
    "from bgc_md2.notebook_helpers import write_to_logfile\n",
    "from CompartmentalSystems.discrete_model_run import DiscreteModelRun as DMR\n",
    "from LAPM.discrete_linear_autonomous_pool_model import \\\n",
    "    DiscreteLinearAutonomousPoolModel as DLAPM\n",
    "\n",
    "%autoreload 2"
   ]
  },
  {
   "cell_type": "code",
   "execution_count": null,
   "id": "f20beca3",
   "metadata": {},
   "outputs": [],
   "source": [
    "all_sims_path = DATA_PATH.joinpath(\"simulations\")\n",
    "all_sims_path.mkdir(exist_ok=True)"
   ]
  },
  {
   "cell_type": "markdown",
   "id": "2e104062",
   "metadata": {},
   "source": [
    "### Custom species parameters?"
   ]
  },
  {
   "cell_type": "code",
   "execution_count": null,
   "id": "7df891f8-6e68-4a59-84dd-706ad99cede5",
   "metadata": {},
   "outputs": [],
   "source": [
    "#%tb\n",
    "\n",
    "try:\n",
    "    parser = argparse.ArgumentParser()\n",
    "    parser.add_argument(\"pre_spinup_date\", type=str)\n",
    "\n",
    "    parser.add_argument(\n",
    "        \"cc_spinup_species\", type=str\n",
    "    )  # continuous-cover (age-distributed) spinup\n",
    "    parser.add_argument(\"cc_spinup_length\", type=int)\n",
    "    parser.add_argument(\"cc_spinup_N\", type=int)\n",
    "\n",
    "    parser.add_argument(\"sim_date\", type=str)\n",
    "    parser.add_argument(\"sim_name\", type=str)\n",
    "    parser.add_argument(\"sim_N\", type=int)\n",
    "\n",
    "    parser.add_argument(\"emergency_action_str\", type=str)\n",
    "    parser.add_argument(\"emergency_direction\", type=str)\n",
    "    parser.add_argument(\"emergency_stand_action_str\", type=str)\n",
    "\n",
    "    args = parser.parse_args()\n",
    "\n",
    "    pre_spinup_date = args.pre_spinup_date\n",
    "    cc_spinup_species = args.cc_spinup_species\n",
    "    cc_spinup_length = args.cc_spinup_length\n",
    "    cc_spinup_N = args.cc_spinup_N\n",
    "    sim_date = args.sim_date\n",
    "    sim_name = args.sim_name\n",
    "    sim_N = args.sim_N\n",
    "\n",
    "    emergency_action_str = args.emergency_action_str\n",
    "    emergency_direction = args.emergency_direction\n",
    "    emergency_stand_action_str = args.emergency_stand_action_str\n",
    "    print(\"Simulation settings from command line\")\n",
    "except SystemExit:\n",
    "    print(\"Standard simulation settings\")\n",
    "\n",
    "    pre_spinup_date = \"2023-07-25\"\n",
    "\n",
    "    # cc stand for continuous-cover\n",
    "    cc_spinup_species = \"pine\"\n",
    "    cc_spinup_length = 8 * 20\n",
    "\n",
    "    cc_spinup_N = 1_500\n",
    "\n",
    "    sim_date = \"2023-07-26\"\n",
    "    sim_name = \"mixed-aged_pine_long\"\n",
    "    #    sim_name = \"even-aged_pine_long\"\n",
    "    #    sim_name = \"even-aged_spruce_long\"\n",
    "    #    sim_name = \"even-aged_mixed_long\"\n",
    "\n",
    "    sim_N = 2_000\n",
    "\n",
    "    emergency_action_str = \"Die\"\n",
    "    emergency_direction = \"below\"\n",
    "    emergency_stand_action_str = \"ThinStandToSBA18\"\n",
    "\n",
    "sim_dict = {\n",
    "    \"pre_spinup_date\": pre_spinup_date,\n",
    "    \"cc_spinup_species\": cc_spinup_species,\n",
    "    \"cc_spinup_length\": cc_spinup_length,\n",
    "    \"cc_spinup_N\": cc_spinup_N,\n",
    "    \"sim_date\": sim_date,\n",
    "    \"sim_name\": sim_name,\n",
    "    \"sim_length\": 4 * 20,\n",
    "    \"N\": sim_N,\n",
    "    \"emergency_action_str\": emergency_action_str,\n",
    "    \"emergency_direction\": emergency_direction,\n",
    "    \"emergency_stand_action_str\": emergency_stand_action_str,\n",
    "}\n",
    "\n",
    "print(sim_dict)"
   ]
  },
  {
   "cell_type": "code",
   "execution_count": null,
   "id": "4588a741-c476-466f-8ed5-329aa015caa7",
   "metadata": {},
   "outputs": [],
   "source": [
    "# for a simulation testing if lower tree density produces more long-lasting wood products\n",
    "# saved in new folder (15 April, in order not to overwrite)\n",
    "\n",
    "# sim_dict[\"N\"] = 1_500\n",
    "print(sim_dict)"
   ]
  },
  {
   "cell_type": "code",
   "execution_count": null,
   "id": "3e318d1b-13ad-472d-89cc-86d9428c7325",
   "metadata": {},
   "outputs": [],
   "source": [
    "# tree species parameter changes can be made here\n",
    "custom_species_params = species_params.copy()\n",
    "\n",
    "alpha = 1.00\n",
    "custom_species_params[\"pine\"][\"alpha\"][\"value\"] = alpha\n",
    "custom_species_params[\"spruce\"][\"alpha\"][\"value\"] = alpha"
   ]
  },
  {
   "cell_type": "markdown",
   "id": "811502e6",
   "metadata": {},
   "source": [
    "## Set up forcing and simulation length"
   ]
  },
  {
   "cell_type": "code",
   "execution_count": null,
   "id": "f41258aa-e85b-4f8c-9cd8-c43d1a8b5ade",
   "metadata": {},
   "outputs": [],
   "source": [
    "sim_cohort_name = \"\"\n",
    "sim_cohort_path = all_sims_path.joinpath(sim_cohort_name)\n",
    "sim_cohort_path = sim_cohort_path.joinpath(f\"{sim_dict['sim_date']}\")\n",
    "\n",
    "sim_cohort_path.mkdir(exist_ok=True)\n",
    "print(sim_cohort_path)"
   ]
  },
  {
   "cell_type": "markdown",
   "id": "03c915ef",
   "metadata": {},
   "source": [
    "## Load pre-spinup data: soil and wood product stocks and age structure"
   ]
  },
  {
   "cell_type": "code",
   "execution_count": null,
   "id": "e7078154",
   "metadata": {
    "lines_to_next_cell": 2
   },
   "outputs": [],
   "source": [
    "spinups_path = PRE_SPINUPS_PATH.joinpath(sim_dict[\"pre_spinup_date\"])\n",
    "\n",
    "light_model = \"Zhao\"  # Zhao or Spitters\n",
    "# light_model = \"Spitters\" # Zhao or Spitters\n",
    "\n",
    "pre_spinup_species = \"pine\"\n",
    "pre_spinup_name = f\"basic_{light_model}_{pre_spinup_species}_2nd_round\"\n",
    "dmr_path = spinups_path.joinpath(pre_spinup_name + \".dmr_eq\")\n",
    "\n",
    "# load fake equilibrium dmr\n",
    "dmr_eq = DLAPM.load_from_file(dmr_path)\n",
    "\n",
    "# initialize soil and wood product models with spinup stocks\n",
    "soil_model = SimpleSoilCModel(\n",
    "    initial_stocks=Q_(dmr_eq.xss[dmr_eq.soil_pool_nrs], \"gC/m^2\")\n",
    ")\n",
    "wood_product_model = SimpleWoodProductModel(\n",
    "    initial_stocks=Q_(dmr_eq.xss[dmr_eq.wood_product_pool_nrs], \"gC/m^2\")\n",
    ")\n",
    "stand_params = stand_params_library[\"default\"]\n",
    "stand_params[\"soil_model\"] = soil_model\n",
    "stand_params[\"wood_product_model\"] = wood_product_model\n",
    "\n",
    "print(dmr_path)"
   ]
  },
  {
   "cell_type": "code",
   "execution_count": null,
   "id": "8ebb5c38",
   "metadata": {},
   "outputs": [],
   "source": [
    "# simulation data\n",
    "\n",
    "# start `spinup_length` years earlier so as to have the true start again at 2000\n",
    "nr_copies = (sim_dict[\"cc_spinup_length\"] + sim_dict[\"sim_length\"]) // 20\n",
    "forcing = prepare_forcing(\n",
    "    nr_copies=nr_copies, year_offset=-sim_dict[\"cc_spinup_length\"]\n",
    ")"
   ]
  },
  {
   "cell_type": "code",
   "execution_count": null,
   "id": "3d99087a",
   "metadata": {},
   "outputs": [],
   "source": [
    "if sim_name == \"mixed-aged_pine_long\":\n",
    "    sim_profile = create_mixed_aged_sim_profile(\n",
    "        sim_dict[\"cc_spinup_species\"], sim_dict[\"cc_spinup_N\"], clear_cut_year=None\n",
    "    )\n",
    "    sim_name = sim_name.replace(\"_long\", \"\") + f\"_N{sim_dict['cc_spinup_N']}\" + \"_long\"\n",
    "\n",
    "else:\n",
    "    spinup_profile = create_mixed_aged_sim_profile(\n",
    "        sim_dict[\"cc_spinup_species\"],\n",
    "        sim_dict[\"cc_spinup_N\"],\n",
    "        clear_cut_year=sim_dict[\"cc_spinup_length\"],\n",
    "    )\n",
    "\n",
    "    clear_cut_sim_profiles = load_clear_cut_sim_profiles(\n",
    "        sim_dict[\"N\"], sim_dict[\"cc_spinup_length\"], sim_dict[\"sim_length\"]\n",
    "    )\n",
    "    clear_cut_sim_profile = clear_cut_sim_profiles[sim_dict[\"sim_name\"]]\n",
    "    sim_profile = spinup_profile + clear_cut_sim_profile\n",
    "\n",
    "print(sim_name)\n",
    "[print(ms) for ms in sim_profile]"
   ]
  },
  {
   "cell_type": "code",
   "execution_count": null,
   "id": "2374cbd1",
   "metadata": {},
   "outputs": [],
   "source": [
    "emergency_action_str = sim_dict[\"emergency_action_str\"]\n",
    "emergency_direction = sim_dict[\"emergency_direction\"]\n",
    "emergency_stand_action_str = sim_dict[\"emergency_stand_action_str\"]\n",
    "# emergency_action_str, emergency_direction = \"Die\", \"below\"\n",
    "# emergency_action_str, emergency_direction = \"Thin\", \"below\"\n",
    "# emergency_action_str, emergency_direction = \"CutWait3AndReplant\", \"above\"\n",
    "\n",
    "emergency_q = (\n",
    "    0.75  # remaining fraction after emergency thinning (in case it is asked for)\n",
    ")\n",
    "\n",
    "species_setting = species_setting_from_sim_profile(sim_profile)\n",
    "\n",
    "logfile_path = sim_cohort_path.joinpath(sim_name + \".log\")\n",
    "print(f\"log file: {logfile_path}\")"
   ]
  },
  {
   "cell_type": "code",
   "execution_count": null,
   "id": "6f3b8d14",
   "metadata": {},
   "outputs": [],
   "source": [
    "%%time\n",
    "\n",
    "stand = Stand.create_empty(stand_params)\n",
    "stand.add_trees_from_setting(\n",
    "    species_setting, custom_species_params=custom_species_params\n",
    ")\n",
    "\n",
    "print(stand)"
   ]
  },
  {
   "cell_type": "code",
   "execution_count": null,
   "id": "d77a3867-e71e-4eda-9879-e42b5b5f497f",
   "metadata": {},
   "outputs": [],
   "source": [
    "final_felling = True\n",
    "\n",
    "if final_felling:\n",
    "    total_length = sim_dict[\"cc_spinup_length\"] + sim_dict[\"sim_length\"]\n",
    "    stand.add_final_felling(Q_(total_length, \"yr\"))\n",
    "\n",
    "print(stand)"
   ]
  },
  {
   "cell_type": "markdown",
   "id": "38327930",
   "metadata": {},
   "source": [
    "## Run simulation"
   ]
  },
  {
   "cell_type": "code",
   "execution_count": null,
   "id": "59bbba1a-601e-4000-99ba-d08bbbe1cfa0",
   "metadata": {},
   "outputs": [],
   "source": [
    "recorded_simulation = RecordedSimulation.from_simulation_run(\n",
    "    sim_name,\n",
    "    logfile_path,\n",
    "    sim_profile,\n",
    "    light_model,\n",
    "    forcing,\n",
    "    custom_species_params,\n",
    "    stand,\n",
    "    #    final_felling,\n",
    "    emergency_action_str,\n",
    "    emergency_direction,\n",
    "    emergency_q,  # fraction to keep\n",
    "    emergency_stand_action_str,  # in case of emergency, also do this\n",
    ")"
   ]
  },
  {
   "cell_type": "markdown",
   "id": "b390be20-26be-42b6-9feb-b4d47f4f0bb1",
   "metadata": {},
   "source": [
    "### Save recorded simulation"
   ]
  },
  {
   "cell_type": "code",
   "execution_count": null,
   "id": "327975aa-0375-43f5-9d96-7d5a68dfb620",
   "metadata": {},
   "outputs": [],
   "source": [
    "filepath = sim_cohort_path.joinpath(sim_name + \".dmp\")\n",
    "filepath"
   ]
  },
  {
   "cell_type": "code",
   "execution_count": null,
   "id": "e8466a23-9605-4cd4-a86a-6484c763154c",
   "metadata": {},
   "outputs": [],
   "source": [
    "recorded_simulation.save_to_file(filepath)\n",
    "print(filepath)"
   ]
  },
  {
   "cell_type": "code",
   "execution_count": null,
   "id": "7b7f61e7-ae66-47d3-9932-a8369bf453cd",
   "metadata": {},
   "outputs": [],
   "source": [
    "# recorded_simulation = RecordedSimulation.from_file(filepath)"
   ]
  },
  {
   "cell_type": "code",
   "execution_count": null,
   "id": "1e61d596",
   "metadata": {},
   "outputs": [],
   "source": [
    "ds = recorded_simulation.ds\n",
    "ds"
   ]
  },
  {
   "cell_type": "code",
   "execution_count": null,
   "id": "d0e38c70",
   "metadata": {},
   "outputs": [],
   "source": [
    "filepath = sim_cohort_path.joinpath(sim_name + \".nc\")\n",
    "ds.to_netcdf(str(filepath))\n",
    "print(filepath)"
   ]
  },
  {
   "cell_type": "markdown",
   "id": "275243a2",
   "metadata": {},
   "source": [
    "## Cut out last part of simulation"
   ]
  },
  {
   "cell_type": "code",
   "execution_count": null,
   "id": "7dd20d35",
   "metadata": {},
   "outputs": [],
   "source": [
    "nr_years = sim_dict[\"sim_length\"] + 1\n",
    "ds_long = ds.copy()\n",
    "ds = ds_long.sel(time=ds_long.time[-nr_years:])\n",
    "ds = ds.assign({\"time\": np.arange(len(ds.time))})\n",
    "ds"
   ]
  },
  {
   "cell_type": "markdown",
   "id": "1ca13f32",
   "metadata": {},
   "source": [
    "## Create discrete model run, load initial age data"
   ]
  },
  {
   "cell_type": "code",
   "execution_count": null,
   "id": "4c0927d1",
   "metadata": {},
   "outputs": [],
   "source": [
    "sim_name = sim_name.replace(\"_long\", \"\")\n",
    "print(sim_name)"
   ]
  },
  {
   "cell_type": "markdown",
   "id": "bb09cefd",
   "metadata": {},
   "source": [
    "## Compute transit time variables, carbon sequestration, add to dataset"
   ]
  },
  {
   "cell_type": "code",
   "execution_count": null,
   "id": "3d30d05e-9bf8-4c4d-9b4e-5c49eaabd79f",
   "metadata": {},
   "outputs": [],
   "source": [
    "cache_size = 30_000\n",
    "verbose = True"
   ]
  },
  {
   "cell_type": "code",
   "execution_count": null,
   "id": "11773227",
   "metadata": {},
   "outputs": [],
   "source": [
    "%%time\n",
    "\n",
    "dmr = utils.create_dmr_from_stocks_and_fluxes(\n",
    "    ds, GPP_total_prepend=ds_long.GPP_total[-(nr_years + 1)]\n",
    ")\n",
    "\n",
    "ds = sim_utils.compute_BTT_vars_and_add_to_ds(\n",
    "    ds, dmr, dmr_eq, up_to_order=2, cache_size=cache_size, verbose=verbose\n",
    ")\n",
    "ds = sim_utils.compute_C_balance_and_CS_and_add_to_ds(\n",
    "    ds, dmr, cache_size=cache_size, verbose=verbose\n",
    ")\n",
    "ds"
   ]
  },
  {
   "cell_type": "markdown",
   "id": "2f949b92",
   "metadata": {},
   "source": [
    "## Save simulation dataset, discrete model run, and spinup (fake equilibrium) model run"
   ]
  },
  {
   "cell_type": "code",
   "execution_count": null,
   "id": "cecad28e-dde9-49c2-91d8-71783cfb69d5",
   "metadata": {
    "lines_to_next_cell": 0
   },
   "outputs": [],
   "source": [
    "filepath = sim_cohort_path.joinpath(sim_name + \".nc\")\n",
    "ds.to_netcdf(str(filepath))\n",
    "print(\"Simulation dataset\")\n",
    "print(filepath)\n",
    "print()\n",
    "\n",
    "filepath = sim_cohort_path.joinpath(sim_name + \".dmr\")\n",
    "dmr.save_to_file(filepath)\n",
    "print(\"Simulation discrete model run\")\n",
    "print(filepath)\n",
    "print()\n",
    "\n",
    "filepath = sim_cohort_path.joinpath(sim_name + \".dmr_eq\")\n",
    "dmr_eq.save_to_file(filepath)\n",
    "print(\"Spinup discrete model run in equilibrium\")\n",
    "print(filepath)\n",
    "print()"
   ]
  },
  {
   "cell_type": "markdown",
   "id": "ecb1cb96-b277-434b-9071-3084243de569",
   "metadata": {},
   "source": [
    "### Make stand cross-section and simulation videos"
   ]
  },
  {
   "cell_type": "code",
   "execution_count": null,
   "id": "e010cca0-8ce2-40ad-b45c-e724b176fa6c",
   "metadata": {
    "lines_to_next_cell": 0
   },
   "outputs": [],
   "source": [
    "# the base for the x-axis of the video, quite arbitray\n",
    "base_N = sim_dict[\"N\"] / 10_000\n",
    "print(\"Creating stand cross section video\")\n",
    "filepath = sim_cohort_path.joinpath(sim_name + \"_cs.mp4\")\n",
    "utils.create_stand_cross_section_video(ds, filepath, base_N)\n",
    "print(filepath)"
   ]
  },
  {
   "cell_type": "code",
   "execution_count": null,
   "id": "c9609ff4-4d79-4bf6-88c1-0efde3aaf2b8",
   "metadata": {},
   "outputs": [],
   "source": [
    "%%time\n",
    "\n",
    "print(\"\\nCreating simulation video\")\n",
    "filepath = sim_cohort_path.joinpath(sim_name + \"_sim.mp4\")\n",
    "\n",
    "utils.create_simulation_video(\n",
    "    ds_long,\n",
    "    dmr_eq,\n",
    "    np.array([dmr.soil_pool_nrs[-1]]),\n",
    "    filepath,\n",
    "    resolution=5,\n",
    "    time_index_start=sim_dict[\"cc_spinup_length\"] - sim_dict[\"sim_length\"],\n",
    "    clearcut_index=sim_dict[\"cc_spinup_length\"],\n",
    "    time_index_stop=len(ds_long.time) - 2,\n",
    "    year_shift=-sim_dict[\"cc_spinup_length\"],\n",
    "    cache_size=1_000,\n",
    ")\n",
    "print(filepath)"
   ]
  }
 ],
 "metadata": {
  "jupytext": {
   "formats": "ipynb,py:light"
  },
  "kernelspec": {
   "display_name": "Python 3 (ipykernel)",
   "language": "python",
   "name": "python3"
  },
  "language_info": {
   "codemirror_mode": {
    "name": "ipython",
    "version": 3
   },
   "file_extension": ".py",
   "mimetype": "text/x-python",
   "name": "python",
   "nbconvert_exporter": "python",
   "pygments_lexer": "ipython3",
   "version": "3.10.0"
  }
 },
 "nbformat": 4,
 "nbformat_minor": 5
}
