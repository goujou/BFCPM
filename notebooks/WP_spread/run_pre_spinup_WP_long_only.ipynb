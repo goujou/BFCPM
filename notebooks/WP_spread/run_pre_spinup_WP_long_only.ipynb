{
 "cells": [
  {
   "cell_type": "markdown",
   "id": "5b7cc55d",
   "metadata": {},
   "source": [
    "# Simulation pre-spinup with long-lasting wood products only\n",
    "\n",
    "To be able to compare the outcomes of serveral simulations, these simulations must start with the same initial data. Such initial data contains stock sizes and the age structure of the pools. To this end, we run a **rather long** simulation with some **arbitrary species composition and management strategy**. Then we create a discrete model run (``dmr``), and average all input fluxes and all compertmental matrixes over the last **arbitrary** ``nr_timesteps`` years to obtain ``mean_U`` and ``mean_B``. Then we compute ``mean_x = inv(Id - mean_B) @ mean_U`` and scale ``mean_U`` to better meet ``mean_x`` with the created a discrete model run in equilibrium (``dmr_eq``). This ``dmr_eq`` is saved to disk and will be loaded before each simulation run.\n",
    "\n",
    "Before the simulation, we then use ``dmr_eq`` to compute initial age moments up to order 2 and initial age distributions. This way all simulations start with the same stocks and age structure of the pools associated to soil and wood products. Trees will be planted at the beginning of each simulation and have an initial age of zero."
   ]
  },
  {
   "cell_type": "code",
   "execution_count": null,
   "id": "947d1890",
   "metadata": {},
   "outputs": [],
   "source": [
    "%load_ext autoreload"
   ]
  },
  {
   "cell_type": "code",
   "execution_count": null,
   "id": "f4a7d2c4",
   "metadata": {},
   "outputs": [],
   "source": [
    "import argparse"
   ]
  },
  {
   "cell_type": "code",
   "execution_count": null,
   "id": "e2f49a91",
   "metadata": {
    "lines_to_next_cell": 0
   },
   "outputs": [],
   "source": [
    "import matplotlib.pyplot as plt"
   ]
  },
  {
   "cell_type": "code",
   "execution_count": null,
   "id": "e378f72c",
   "metadata": {},
   "outputs": [],
   "source": [
    "import numpy as np\n",
    "import xarray as xr\n",
    "from BFCPM import DATA_PATH, PRE_SPINUPS_PATH, Q_, utils\n",
    "from BFCPM.management.library import species_setting_from_sim_profile\n",
    "from BFCPM.simulation import utils as sim_utils\n",
    "from BFCPM.simulation.library import prepare_forcing\n",
    "from BFCPM.simulation.recorded_simulation import RecordedSimulation\n",
    "from BFCPM.simulation_parameters import stand_params_library\n",
    "from BFCPM.soil.simple_soil_model.C_model import SimpleSoilCModel\n",
    "from BFCPM.stand import Stand\n",
    "from BFCPM.trees.single_tree_params import species_params\n",
    "from BFCPM.wood_products.long_lasting_only.C_model import \\\n",
    "    LongLastingOnlyWoodProductModel\n",
    "from bgc_md2.notebook_helpers import write_to_logfile\n",
    "from CompartmentalSystems.discrete_model_run import DiscreteModelRun as DMR\n",
    "from LAPM.discrete_linear_autonomous_pool_model import \\\n",
    "    DiscreteLinearAutonomousPoolModel as DLAPM\n",
    "from scipy.linalg import inv\n",
    "\n",
    "%autoreload 2"
   ]
  },
  {
   "cell_type": "code",
   "execution_count": null,
   "id": "0db7ba27-6439-44a1-ae79-1940f73c990b",
   "metadata": {},
   "outputs": [],
   "source": [
    "#%tb\n",
    "\n",
    "try:\n",
    "    parser = argparse.ArgumentParser()\n",
    "    parser.add_argument(\"pre_spinup_date\", type=str)\n",
    "    args = parser.parse_args()\n",
    "\n",
    "    pre_spinup_date = args.pre_spinup_date\n",
    "    print(\"Pre-spinup settings from command line\")\n",
    "except SystemExit:\n",
    "    print(\"Default pre-spinup settings\")\n",
    "    pre_spinup_date = \"2023-11-22\"\n",
    "\n",
    "print(pre_spinup_date)"
   ]
  },
  {
   "cell_type": "code",
   "execution_count": null,
   "id": "f63e4d92",
   "metadata": {},
   "outputs": [],
   "source": [
    "pre_spinups_path = PRE_SPINUPS_PATH.joinpath(pre_spinup_date)\n",
    "pre_spinups_path.mkdir(exist_ok=True, parents=True)\n",
    "\n",
    "# filename for the current spinup dmr\n",
    "species = \"pine\"\n",
    "# species = \"spruce\"\n",
    "# species = \"birch\"\n",
    "light_model = \"Zhao\"  # Zhao or Spitters\n",
    "# light_model = \"Spitters\" # Zhao or Spitters\n",
    "pre_spinup_name = f\"basic_{light_model}_{species}\"\n",
    "\n",
    "# output files\n",
    "dmr_eq_path = pre_spinups_path.joinpath(pre_spinup_name + \".dmr_eq\")\n",
    "dmr_path = pre_spinups_path.joinpath(pre_spinup_name + \".dmr\")\n",
    "nc_path = pre_spinups_path.joinpath(pre_spinup_name + \".nc\")\n",
    "dmp_path = pre_spinups_path.joinpath(pre_spinup_name + \".dmp\")\n",
    "logfile_path = pre_spinups_path.joinpath(pre_spinup_name + \".log\")\n",
    "\n",
    "# number of years at the end of the simulation to be used\n",
    "# to compute the mean values on which the fake equilibrium is based\n",
    "nr_timesteps = 50\n",
    "\n",
    "logfile_path"
   ]
  },
  {
   "cell_type": "markdown",
   "id": "b01b50e4-5aac-44f3-ac63-d8cffc473632",
   "metadata": {},
   "source": [
    "### Custom species parameters?"
   ]
  },
  {
   "cell_type": "code",
   "execution_count": null,
   "id": "2fb24f72-12ca-4b3c-8a51-a47dbccdc0a4",
   "metadata": {},
   "outputs": [],
   "source": [
    "# tree species parameter changes can be made here\n",
    "custom_species_params = species_params.copy()"
   ]
  },
  {
   "cell_type": "code",
   "execution_count": null,
   "id": "0ffff085",
   "metadata": {},
   "outputs": [],
   "source": [
    "forcing = prepare_forcing(nr_copies=8, year_offset=-160)"
   ]
  },
  {
   "cell_type": "code",
   "execution_count": null,
   "id": "3bcac75f",
   "metadata": {},
   "outputs": [],
   "source": [
    "management_strategy = [\n",
    "    (\"StandAge3\", \"Plant\"),\n",
    "    (\"PCT\", \"T0.75\"),  # pre-commercial thinning\n",
    "    (\n",
    "        \"SBA25-80-160\",\n",
    "        \"ThinStandToSBA18\",\n",
    "    ),  # SBA dependent thinning, not between 70 and 80, 150 and 160 yrs of sim\n",
    "    #    (\"SBAvsDTHBrownLower80-160\", \"ThinningStandGreenLower\"), # SBA and DTH dependent thinning\n",
    "    (\n",
    "        \"StandAge79\",\n",
    "        \"CutWait3AndReplant\",\n",
    "    ),  # clear cut with replanting after 80 yrs (Triggered after 79 years, cut next year)\n",
    "    (\"DBH35-80-160\", \"CutWait3AndReplant\"),\n",
    "]\n",
    "\n",
    "sim_profile = [(species, 1.0, 0.20, management_strategy, \"waiting\")]\n",
    "sim_name = pre_spinup_name\n",
    "\n",
    "emergency_action_str, emergency_direction, emergency_stand_action_str = (\n",
    "    \"Die\",\n",
    "    \"below\",\n",
    "    \"\",\n",
    ")\n",
    "# emergency_action_str, emergency_direction = \"Thin\", \"below\"\n",
    "# emergency_action_str, emergency_direction = \"CutWait3AndReplant\", \"above\"\n",
    "emergency_q = 0.75\n",
    "\n",
    "species_setting = species_setting_from_sim_profile(sim_profile)\n",
    "\n",
    "print(sim_name)"
   ]
  },
  {
   "cell_type": "code",
   "execution_count": null,
   "id": "6c5da036",
   "metadata": {},
   "outputs": [],
   "source": [
    "%%time\n",
    "\n",
    "empty_soil_model = SimpleSoilCModel()\n",
    "empty_wood_product_model = LongLastingOnlyWoodProductModel()\n",
    "\n",
    "stand_params = stand_params_library[\"default\"]\n",
    "stand_params[\"soil_model\"] = empty_soil_model\n",
    "stand_params[\"wood_product_model\"] = empty_wood_product_model\n",
    "\n",
    "stand = Stand.create_empty(stand_params)\n",
    "stand.add_trees_from_setting(\n",
    "    species_setting, custom_species_params=custom_species_params\n",
    ")\n",
    "print(stand)"
   ]
  },
  {
   "cell_type": "code",
   "execution_count": null,
   "id": "1e2eb0c6-a13a-40b0-b28a-940cf357925c",
   "metadata": {},
   "outputs": [],
   "source": [
    "final_felling = True\n",
    "\n",
    "if final_felling:\n",
    "    total_length = 160\n",
    "    stand.add_final_felling(Q_(total_length, \"yr\"))\n",
    "\n",
    "print(stand)"
   ]
  },
  {
   "cell_type": "markdown",
   "id": "6c68fceb",
   "metadata": {},
   "source": [
    "## Run simulation"
   ]
  },
  {
   "cell_type": "code",
   "execution_count": null,
   "id": "48283a74",
   "metadata": {},
   "outputs": [],
   "source": [
    "recorded_simulation = RecordedSimulation.from_simulation_run(\n",
    "    sim_name,\n",
    "    logfile_path,\n",
    "    sim_profile,\n",
    "    light_model,\n",
    "    forcing,\n",
    "    custom_species_params,\n",
    "    stand,\n",
    "    #    final_felling,\n",
    "    emergency_action_str,\n",
    "    emergency_direction,\n",
    "    emergency_q,  # fraction to keep\n",
    "    emergency_stand_action_str,\n",
    ")"
   ]
  },
  {
   "cell_type": "markdown",
   "id": "bdad418f-68ba-4f8f-8eb0-7feff90123e1",
   "metadata": {},
   "source": [
    "### Save recorded simulation"
   ]
  },
  {
   "cell_type": "code",
   "execution_count": null,
   "id": "dbaa08a4-d40a-4a00-9673-898289a738be",
   "metadata": {},
   "outputs": [],
   "source": [
    "recorded_simulation.save_to_file(dmp_path)\n",
    "print(dmp_path)"
   ]
  },
  {
   "cell_type": "code",
   "execution_count": null,
   "id": "c51f22a8",
   "metadata": {},
   "outputs": [],
   "source": [
    "ds = recorded_simulation.ds\n",
    "ds"
   ]
  },
  {
   "cell_type": "code",
   "execution_count": null,
   "id": "d2ae4e96",
   "metadata": {},
   "outputs": [],
   "source": [
    "ds.to_netcdf(str(nc_path))\n",
    "nc_path"
   ]
  },
  {
   "cell_type": "code",
   "execution_count": null,
   "id": "4ddc55d3",
   "metadata": {},
   "outputs": [],
   "source": [
    "ds = xr.load_dataset(nc_path)"
   ]
  },
  {
   "cell_type": "markdown",
   "id": "43edcb8d",
   "metadata": {},
   "source": [
    "## Show spinup"
   ]
  },
  {
   "cell_type": "code",
   "execution_count": null,
   "id": "982bdd41",
   "metadata": {
    "lines_to_next_cell": 2
   },
   "outputs": [],
   "source": [
    "fig, axes = plt.subplots(figsize=(12, 4 * 2), nrows=2)\n",
    "axes = iter(axes)\n",
    "\n",
    "ax = next(axes)\n",
    "ds.stocks.sel(entity=\"wood_product\", pool=[\"WP_L\"]).plot.line(ax=ax, x=\"time\")\n",
    "\n",
    "ax = next(axes)\n",
    "ds.stocks.sel(entity=\"soil\", pool=[\"Litter\", \"CWD\", \"SOC\"]).plot.line(ax=ax, x=\"time\")\n",
    "\n",
    "fig.tight_layout()"
   ]
  },
  {
   "cell_type": "code",
   "execution_count": null,
   "id": "33789a04",
   "metadata": {},
   "outputs": [],
   "source": [
    "fig, axes = plt.subplots(figsize=(12, 4 * 3), nrows=3)\n",
    "axes = iter(axes)\n",
    "\n",
    "ax = next(axes)\n",
    "ds.DBH.plot.line(ax=ax, x=\"time\")\n",
    "ax.set_title(\"DBH\")\n",
    "\n",
    "ax = next(axes)\n",
    "ds.height.plot.line(ax=ax, x=\"time\")\n",
    "ax.set_title(\"Tree height\")\n",
    "\n",
    "ax = next(axes)\n",
    "ds.stand_basal_area.plot(ax=ax)\n",
    "ax.set_title(\"Stand basal area\")\n",
    "\n",
    "fig.tight_layout()"
   ]
  },
  {
   "cell_type": "markdown",
   "id": "04337054",
   "metadata": {},
   "source": [
    "# Fake equilibrium initial soil and wood product model stocks\n",
    "\n",
    "And save fake equilibrium dmr to file."
   ]
  },
  {
   "cell_type": "code",
   "execution_count": null,
   "id": "42f51167",
   "metadata": {},
   "outputs": [],
   "source": [
    "# create discrete model run from stocks and fluxes\n",
    "# shorten the data time step artificially to be able to create DMR\n",
    "# nr_all_pools = stand.nr_trees * stand.nr_tree_pools + stand.nr_soil_pools\n",
    "dmr = utils.create_dmr_from_stocks_and_fluxes(ds)\n",
    "\n",
    "dmr.tree_pool_nrs = utils.get_global_pool_nrs_from_entity_nrs(\n",
    "    ds.tree_entity_nrs.data, ds\n",
    ")\n",
    "\n",
    "dmr.soil_pool_nrs = utils.get_global_pool_nrs_from_entity_nrs([ds.soil_entity_nr], ds)\n",
    "dmr.wood_product_pool_nrs = utils.get_global_pool_nrs_from_entity_nrs(\n",
    "    [ds.wood_product_entity_nr], ds\n",
    ")\n",
    "\n",
    "dmr.save_to_file(dmr_path)\n",
    "dmr_path"
   ]
  },
  {
   "cell_type": "code",
   "execution_count": null,
   "id": "0d82c36d",
   "metadata": {
    "lines_to_next_cell": 2
   },
   "outputs": [],
   "source": [
    "# create DMR at a fake equilibrium based on the last timesteps of the simulation\n",
    "\n",
    "xs = dmr.solve()\n",
    "mean_B = dmr.Bs[-nr_timesteps:].mean(axis=0)\n",
    "mean_U = dmr.net_Us[-nr_timesteps:].mean(axis=0)  # last nr_timesteps elements\n",
    "mean_x = xs[-nr_timesteps:].mean(axis=0)\n"
   ]
  },
  {
   "cell_type": "code",
   "execution_count": null,
   "id": "2cecc012",
   "metadata": {},
   "outputs": [],
   "source": [
    "Id = np.identity(dmr.nr_pools)\n",
    "xss = inv(Id - mean_B) @ mean_U"
   ]
  },
  {
   "cell_type": "code",
   "execution_count": null,
   "id": "802fb49b",
   "metadata": {
    "lines_to_next_cell": 2
   },
   "outputs": [],
   "source": [
    "# scale mean_U to better meet mean_x\n",
    "\n",
    "mean_U = mean_U * mean_x / xss\n",
    "\n",
    "dmr_eq = DLAPM(mean_U, mean_B, check_col_sums=False)\n",
    "\n",
    "# add pool number descriptions to dmr_eq\n",
    "dmr_eq.tree_pool_nrs = utils.get_global_pool_nrs_from_entity_nrs(\n",
    "    ds.tree_entity_nrs.data, ds\n",
    ")\n",
    "\n",
    "dmr_eq.soil_pool_nrs = utils.get_global_pool_nrs_from_entity_nrs(\n",
    "    [ds.soil_entity_nr], ds\n",
    ")\n",
    "dmr_eq.wood_product_pool_nrs = utils.get_global_pool_nrs_from_entity_nrs(\n",
    "    [ds.wood_product_entity_nr], ds\n",
    ")\n",
    "\n",
    "# mean_GPP = ds.GPP_total[:-nr_timesteps:].mean(dim=\"time\")\n",
    "# dmr_eq.GPP = mean_GPP\n",
    "\n",
    "dmr_eq.save_to_file(dmr_eq_path)\n",
    "dmr_eq_path"
   ]
  },
  {
   "cell_type": "markdown",
   "id": "cbb5af55",
   "metadata": {},
   "source": [
    "# Second round\n",
    "\n",
    "Run a second spinup starting with the results of the first spinup."
   ]
  },
  {
   "cell_type": "code",
   "execution_count": null,
   "id": "d64df455",
   "metadata": {
    "lines_to_next_cell": 2
   },
   "outputs": [],
   "source": [
    "# load fake equilibrium dmr\n",
    "dmr_eq = DLAPM.load_from_file(dmr_eq_path)\n",
    "\n",
    "# initialize soil and wood product models with spinup stocks\n",
    "soil_model = SimpleSoilCModel(\n",
    "    initial_stocks=Q_(dmr_eq.xss[dmr_eq.soil_pool_nrs], \"gC/m^2\")\n",
    ")\n",
    "wood_product_model = LongLastingOnlyWoodProductModel(\n",
    "    initial_stocks=Q_(dmr_eq.xss[dmr_eq.wood_product_pool_nrs], \"gC/m^2\")\n",
    ")\n",
    "stand_params[\"soil_model\"] = soil_model\n",
    "stand_params[\"wood_product_model\"] = wood_product_model\n",
    "\n",
    "# output files\n",
    "dmr_eq_2nd_round_path = pre_spinups_path.joinpath(\n",
    "    pre_spinup_name + \"_2nd_round\" + \".dmr_eq\"\n",
    ")\n",
    "dmr_2nd_round_path = pre_spinups_path.joinpath(pre_spinup_name + \"_2nd_round\" + \".dmr\")\n",
    "nc_path = pre_spinups_path.joinpath(pre_spinup_name + \"_2nd_round\" + \".nc\")\n",
    "dmp_path = pre_spinups_path.joinpath(pre_spinup_name + \"_2nd_round\" + \".dmp\")\n",
    "logfile_path = pre_spinups_path.joinpath(pre_spinup_name + \"_2nd_round.log\")\n",
    "\n",
    "stand = Stand.create_empty(stand_params)\n",
    "stand.add_trees_from_setting(\n",
    "    species_setting, custom_species_params=custom_species_params\n",
    ")"
   ]
  },
  {
   "cell_type": "code",
   "execution_count": null,
   "id": "4ccedd22-6dee-4c90-8a9f-be384232d37c",
   "metadata": {},
   "outputs": [],
   "source": [
    "final_felling = True\n",
    "\n",
    "if final_felling:\n",
    "    total_length = 160\n",
    "    stand.add_final_felling(Q_(total_length, \"yr\"))\n",
    "\n",
    "print(stand)"
   ]
  },
  {
   "cell_type": "markdown",
   "id": "349a1314",
   "metadata": {},
   "source": [
    "## Run simulation"
   ]
  },
  {
   "cell_type": "code",
   "execution_count": null,
   "id": "d3a3ac19",
   "metadata": {},
   "outputs": [],
   "source": [
    "recorded_simulation = RecordedSimulation.from_simulation_run(\n",
    "    sim_name,\n",
    "    logfile_path,\n",
    "    sim_profile,\n",
    "    light_model,\n",
    "    forcing,\n",
    "    custom_species_params,\n",
    "    stand,\n",
    "    #    final_felling,\n",
    "    emergency_action_str,\n",
    "    emergency_direction,\n",
    "    emergency_q,  # fraction to keep\n",
    "    emergency_stand_action_str,\n",
    ")"
   ]
  },
  {
   "cell_type": "markdown",
   "id": "f6ec4bb6-b072-4831-babe-533932247ca9",
   "metadata": {},
   "source": [
    "### Save recorded simulation"
   ]
  },
  {
   "cell_type": "code",
   "execution_count": null,
   "id": "7a5aab6e-ff2f-43f6-954c-053699660709",
   "metadata": {},
   "outputs": [],
   "source": [
    "recorded_simulation.save_to_file(dmp_path)\n",
    "print(dmp_path)"
   ]
  },
  {
   "cell_type": "code",
   "execution_count": null,
   "id": "6e366de1-1809-4fba-9e18-2854b1c83630",
   "metadata": {},
   "outputs": [],
   "source": [
    "ds = recorded_simulation.ds\n",
    "ds"
   ]
  },
  {
   "cell_type": "code",
   "execution_count": null,
   "id": "e39bf0c3",
   "metadata": {},
   "outputs": [],
   "source": [
    "ds.to_netcdf(str(nc_path))\n",
    "nc_path"
   ]
  },
  {
   "cell_type": "markdown",
   "id": "3acfe85f",
   "metadata": {},
   "source": [
    "## Show spinup"
   ]
  },
  {
   "cell_type": "code",
   "execution_count": null,
   "id": "4c943a9c",
   "metadata": {
    "lines_to_next_cell": 2
   },
   "outputs": [],
   "source": [
    "fig, axes = plt.subplots(figsize=(12, 4 * 2), nrows=2)\n",
    "axes = iter(axes)\n",
    "\n",
    "ax = next(axes)\n",
    "ds.stocks.sel(entity=\"wood_product\", pool=[\"WP_L\"]).plot.line(ax=ax, x=\"time\")\n",
    "\n",
    "ax = next(axes)\n",
    "ds.stocks.sel(entity=\"soil\", pool=[\"Litter\", \"CWD\", \"SOC\"]).plot.line(ax=ax, x=\"time\")\n",
    "\n",
    "fig.tight_layout()"
   ]
  },
  {
   "cell_type": "code",
   "execution_count": null,
   "id": "6fefa1b3",
   "metadata": {},
   "outputs": [],
   "source": [
    "fig, axes = plt.subplots(figsize=(12, 4 * 3), nrows=3)\n",
    "axes = iter(axes)\n",
    "\n",
    "ax = next(axes)\n",
    "ds.DBH.plot.line(ax=ax, x=\"time\")\n",
    "ax.set_title(\"DBH\")\n",
    "\n",
    "ax = next(axes)\n",
    "ds.height.plot.line(ax=ax, x=\"time\")\n",
    "ax.set_title(\"Tree height\")\n",
    "\n",
    "\n",
    "ax = next(axes)\n",
    "ds.stand_basal_area.plot(ax=ax)\n",
    "ax.set_title(\"Stand basal area\")\n",
    "\n",
    "fig.tight_layout()"
   ]
  },
  {
   "cell_type": "markdown",
   "id": "9c93f377",
   "metadata": {},
   "source": [
    "# Fake equilibrium initial soil and wood product model stocks\n",
    "\n",
    "And save fake equilibrium dmr to file."
   ]
  },
  {
   "cell_type": "code",
   "execution_count": null,
   "id": "5272ed1f",
   "metadata": {},
   "outputs": [],
   "source": [
    "# create discrete model run from stocks and fluxes\n",
    "# shorten the data time step artificially to be able to create DMR\n",
    "# nr_all_pools = stand.nr_trees * stand.nr_tree_pools + stand.nr_soil_pools\n",
    "dmr = utils.create_dmr_from_stocks_and_fluxes(ds)\n",
    "\n",
    "dmr.tree_pool_nrs = utils.get_global_pool_nrs_from_entity_nrs(\n",
    "    ds.tree_entity_nrs.data, ds\n",
    ")\n",
    "\n",
    "dmr.soil_pool_nrs = utils.get_global_pool_nrs_from_entity_nrs([ds.soil_entity_nr], ds)\n",
    "dmr.wood_product_pool_nrs = utils.get_global_pool_nrs_from_entity_nrs(\n",
    "    [ds.wood_product_entity_nr], ds\n",
    ")\n",
    "\n",
    "dmr.save_to_file(dmr_2nd_round_path)"
   ]
  },
  {
   "cell_type": "code",
   "execution_count": null,
   "id": "2a61dd97",
   "metadata": {},
   "outputs": [],
   "source": [
    "# create DMR at a fake equilibrium based on the last timesteps of the simulation\n",
    "\n",
    "xs = dmr.solve()\n",
    "mean_B = dmr.Bs[-nr_timesteps:].mean(axis=0)\n",
    "mean_U = dmr.net_Us[-nr_timesteps:].mean(axis=0)  # last nr_timesteps elements\n",
    "\n",
    "# scale mean_U to better meet mean_x\n",
    "mean_x = xs[-nr_timesteps:].mean(axis=0)\n",
    "Id = np.identity(dmr.nr_pools)\n",
    "xss = inv(Id - mean_B) @ mean_U\n",
    "mean_U = mean_U * mean_x / xss\n",
    "\n",
    "dmr_eq = DLAPM(mean_U, mean_B, check_col_sums=False)\n",
    "\n",
    "dmr_eq.tree_pool_nrs = utils.get_global_pool_nrs_from_entity_nrs(\n",
    "    ds.tree_entity_nrs.data, ds\n",
    ")\n",
    "\n",
    "dmr_eq.soil_pool_nrs = utils.get_global_pool_nrs_from_entity_nrs(\n",
    "    [ds.soil_entity_nr], ds\n",
    ")\n",
    "dmr_eq.wood_product_pool_nrs = utils.get_global_pool_nrs_from_entity_nrs(\n",
    "    [ds.wood_product_entity_nr], ds\n",
    ")\n",
    "\n",
    "dmr_eq.save_to_file(dmr_eq_2nd_round_path)\n",
    "dmr_eq_2nd_round_path"
   ]
  }
 ],
 "metadata": {
  "jupytext": {
   "formats": "ipynb,py:light"
  },
  "kernelspec": {
   "display_name": "Python 3 (ipykernel)",
   "language": "python",
   "name": "python3"
  },
  "language_info": {
   "codemirror_mode": {
    "name": "ipython",
    "version": 3
   },
   "file_extension": ".py",
   "mimetype": "text/x-python",
   "name": "python",
   "nbconvert_exporter": "python",
   "pygments_lexer": "ipython3",
   "version": "3.10.0"
  }
 },
 "nbformat": 4,
 "nbformat_minor": 5
}
