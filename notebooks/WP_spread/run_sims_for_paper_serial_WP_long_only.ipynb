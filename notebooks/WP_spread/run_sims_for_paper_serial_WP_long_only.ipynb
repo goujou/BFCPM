{
 "cells": [
  {
   "cell_type": "markdown",
   "id": "c348c988",
   "metadata": {},
   "source": [
    "## Script to run several python files (from notebooks) one after another and store their output\n",
    "\n",
    "- check that the ipython file (``run_pre_spinup.ipynb``, ``run_simulation.ipynb``, ``run_benchmarking.ipynb``) is synchronized with its python file (via ``jupytext --set-formats ipynb,py --sync yourNotebook.ipynb``)\n",
    "- add the python file with its parameters to ``notebook_datas``"
   ]
  },
  {
   "cell_type": "code",
   "execution_count": null,
   "id": "e6b1de16",
   "metadata": {},
   "outputs": [],
   "source": [
    "import subprocess\n",
    "from pathlib import Path\n",
    "\n",
    "from BFCPM import LOGS_PATH\n",
    "from tqdm import tqdm"
   ]
  },
  {
   "cell_type": "code",
   "execution_count": null,
   "id": "f6e9bb6f",
   "metadata": {
    "lines_to_next_cell": 2
   },
   "outputs": [],
   "source": [
    "# pre_spinup_date = \"2023-06-07\" # corrected wood density\n",
    "#pre_spinup_date = \"2023-07-25\"  # publication\n",
    "pre_spinup_date = \"2023-11-22\"  # Revision 1, wood products short and long separeted\n",
    "\n",
    "# continuous-cover spinup\n",
    "cc_spinup_species = \"pine\"\n",
    "cc_spinup_length = 160\n",
    "cc_spinup_N = 1_500\n",
    "\n",
    "# simulation data\n",
    "\n",
    "# sim_date = \"2023-05-15\" # current simulation for paper\n",
    "# sim_date = \"2023-06-05\" # other emergency strategies\n",
    "# sim_date = \"2023-06-08\" # corrected wood density\n",
    "# sim_date = \"2023-06-19\" # at emergency automatically thin stand to SBA = 18\n",
    "# sim_date = \"2023-07-11\" # mixed-aged_pine\n",
    "#sim_date = \"2023-07-26\"  # publication\n",
    "sim_date = \"2023-11-23\"  # Revision 1, wood products short and long separeted\n",
    "\n",
    "sim_names = [\n",
    "    \"mixed-aged_pine_long\",\n",
    "    \"even-aged_pine_long\",\n",
    "    \"even-aged_spruce_long\",\n",
    "    \"even-aged_mixed_long\",\n",
    "]\n",
    "\n",
    "# tree density of even-aged stands before pre-commercial thinning\n",
    "sim_N = 2_000\n",
    "\n",
    "# emergency actions to be taken\n",
    "emergency_action_str, emergency_direction, emergency_stand_action_str = (\n",
    "    \"Die\",\n",
    "    \"below\",\n",
    "    \"ThinStandToSBA18\",\n",
    ")\n",
    "# emergency_action_str, emergency_direction = \"Cut\", \"above\"\n",
    "# emergency_action_str, emergency_direction = \"CutWait3AndReplant\", \"above\"\n",
    "# emergency_action_str, emergency_direction = \"Thin\", \"above\"\n"
   ]
  },
  {
   "cell_type": "code",
   "execution_count": null,
   "id": "84936bf8",
   "metadata": {},
   "outputs": [],
   "source": [
    "logs_path = LOGS_PATH.joinpath(f\"{sim_date}\")\n",
    "logs_path.mkdir(exist_ok=True, parents=True)\n",
    "logs_path"
   ]
  },
  {
   "cell_type": "code",
   "execution_count": null,
   "id": "bfa8829e",
   "metadata": {},
   "outputs": [],
   "source": [
    "notebook_datas = []\n",
    "\n",
    "# pre-spinup simulation data\n",
    "pre_spinup_data = [\n",
    "    {\"filename\": \"run_pre_spinup_WP_long_only.py\", \"params\": [pre_spinup_date]},\n",
    "]\n",
    "\n",
    "# four scenarios simulation data including continuous-cover spinup\n",
    "four_scenarios_data = [\n",
    "    {\n",
    "        \"filename\": \"run_simulation_WP_long_only.py\",\n",
    "        \"params\": [\n",
    "            pre_spinup_date,\n",
    "            cc_spinup_species,\n",
    "            str(cc_spinup_length),\n",
    "            str(cc_spinup_N),\n",
    "            sim_date,\n",
    "            sim_name,\n",
    "            str(sim_N),\n",
    "            emergency_action_str,\n",
    "            emergency_direction,\n",
    "            emergency_stand_action_str,\n",
    "        ],\n",
    "    }\n",
    "    for sim_name in sim_names\n",
    "]"
   ]
  },
  {
   "cell_type": "code",
   "execution_count": null,
   "id": "de2d6e90",
   "metadata": {},
   "outputs": [],
   "source": [
    "notebook_datas = (\n",
    "    pre_spinup_data + four_scenarios_data\n",
    ")\n",
    "notebook_datas"
   ]
  },
  {
   "cell_type": "code",
   "execution_count": null,
   "id": "731253ba",
   "metadata": {},
   "outputs": [],
   "source": [
    "%%time\n",
    "\n",
    "for nr, nb_data in tqdm(enumerate(notebook_datas)):\n",
    "    filename = nb_data[\"filename\"]\n",
    "    params = nb_data[\"params\"]\n",
    "\n",
    "    print(\"Starting:\", filename)\n",
    "    print(params)\n",
    "    logfile_path = logs_path.joinpath(f\"run_sims_for_paper_serial_WP_long_only_{nr}.log\")\n",
    "    print(\"Logfile path:\", logfile_path)\n",
    "    with open(logfile_path, \"w\") as f:\n",
    "        process = subprocess.run(\n",
    "            [\"python\", filename] + params, stdout=f, universal_newlines=True\n",
    "        )\n",
    "    #        process.wait()\n",
    "\n",
    "    print(\"Finished:\", filename)\n",
    "    print(logfile_path.absolute())\n",
    "    print(process)"
   ]
  }
 ],
 "metadata": {
  "jupytext": {
   "formats": "ipynb,py:light"
  },
  "kernelspec": {
   "display_name": "Python 3 (ipykernel)",
   "language": "python",
   "name": "python3"
  },
  "language_info": {
   "codemirror_mode": {
    "name": "ipython",
    "version": 3
   },
   "file_extension": ".py",
   "mimetype": "text/x-python",
   "name": "python",
   "nbconvert_exporter": "python",
   "pygments_lexer": "ipython3",
   "version": "3.10.0"
  }
 },
 "nbformat": 4,
 "nbformat_minor": 5
}
